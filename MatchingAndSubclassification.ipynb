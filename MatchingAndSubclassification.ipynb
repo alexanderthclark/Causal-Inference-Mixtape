{
 "cells": [
  {
   "cell_type": "markdown",
   "metadata": {},
   "source": [
    "# Matching and Subclassification"
   ]
  },
  {
   "cell_type": "code",
   "execution_count": 1,
   "metadata": {},
   "outputs": [],
   "source": [
    "import numpy as np\n",
    "import pandas as pd\n",
    "import statsmodels.api as sm\n",
    "import matplotlib.pyplot as plt\n",
    "import math\n",
    "import random"
   ]
  },
  {
   "cell_type": "markdown",
   "metadata": {},
   "source": [
    "# 5.1.3 Subclassification Exercise"
   ]
  },
  {
   "cell_type": "code",
   "execution_count": 2,
   "metadata": {},
   "outputs": [
    {
     "name": "stdout",
     "output_type": "stream",
     "text": [
      "0.3538264720354272\n"
     ]
    }
   ],
   "source": [
    "# titanic\n",
    "\n",
    "url = 'https://github.com/scunning1975/mixtape/raw/master/titanic.dta'\n",
    "\n",
    "df = pd.read_stata(url)\n",
    "\n",
    "# calculate SDO\n",
    "\n",
    "df['is_first_class'] = df['class'] == '1st class'\n",
    "df['survived'] = df.survived == 'yes'\n",
    "\n",
    "grouped_mean = df.groupby(\"is_first_class\").survived.mean()\n",
    "SDO = grouped_mean[True] - grouped_mean[False]\n",
    "print(SDO)"
   ]
  },
  {
   "cell_type": "code",
   "execution_count": 3,
   "metadata": {},
   "outputs": [],
   "source": [
    "# titanic_subclassification\n",
    "\n",
    "# stratify into four groups\n",
    "\n",
    "df['group'] = None\n",
    "\n",
    "for age in set(df.age):\n",
    "    is_age = df.age == age\n",
    "    \n",
    "    for sex in set(df.sex):\n",
    "        is_sex = df.sex == sex\n",
    "        \n",
    "        df.loc[is_age & is_sex, 'group'] = age + \"-\" + sex"
   ]
  },
  {
   "cell_type": "code",
   "execution_count": 4,
   "metadata": {},
   "outputs": [
    {
     "data": {
      "text/plain": [
       "Text(0, 0.5, 'Age & Sex Group')"
      ]
     },
     "execution_count": 4,
     "metadata": {},
     "output_type": "execute_result"
    },
    {
     "data": {
      "image/png": "[encoded data removed]",
      "text/plain": [
       "<Figure size 432x288 with 1 Axes>"
      ]
     },
     "metadata": {
      "needs_background": "light"
     },
     "output_type": "display_data"
    }
   ],
   "source": [
    "df.groupby(\"group\").survived.mean().sort_values().plot.barh()\n",
    "plt.title(\"Survival Probabilities By Group\")\n",
    "plt.xlabel('Probability of Survival')\n",
    "plt.ylabel(\"Age & Sex Group\")"
   ]
  },
  {
   "cell_type": "code",
   "execution_count": 5,
   "metadata": {},
   "outputs": [
    {
     "name": "stdout",
     "output_type": "stream",
     "text": [
      "Weighted Average Treatment Effect 0.1888\n"
     ]
    }
   ],
   "source": [
    "non_first_class = df[df.is_first_class == False]\n",
    "\n",
    "weights = non_first_class.groupby('group').survived.count() / len(non_first_class)\n",
    "\n",
    "# Weighted ATE\n",
    "\n",
    "wate = 0\n",
    "\n",
    "for group in weights.index:\n",
    "    \n",
    "    temp = df[df.group == group]\n",
    "    grouped_mean = temp.groupby('is_first_class').survived.mean()\n",
    "    \n",
    "    sdo = grouped_mean[True] - grouped_mean[False]\n",
    "    \n",
    "    wate += weights[group]*sdo\n",
    "    \n",
    "print('Weighted Average Treatment Effect', round(wate,4))"
   ]
  },
  {
   "cell_type": "markdown",
   "metadata": {},
   "source": [
    "# 5.2 Exact Matching"
   ]
  },
  {
   "cell_type": "code",
   "execution_count": 6,
   "metadata": {},
   "outputs": [],
   "source": [
    "import warnings\n",
    "# ignoring warnings related to histograms\n",
    "warnings.filterwarnings('ignore')"
   ]
  },
  {
   "cell_type": "code",
   "execution_count": 7,
   "metadata": {},
   "outputs": [],
   "source": [
    "url = \"https://raw.github.com/scunning1975/mixtape/master/training_example.dta\"\n",
    "\n",
    "df = pd.read_stata(url)"
   ]
  },
  {
   "cell_type": "code",
   "execution_count": 8,
   "metadata": {},
   "outputs": [
    {
     "data": {
      "image/png": "[encoded data removed]",
      "text/plain": [
       "<Figure size 432x504 with 2 Axes>"
      ]
     },
     "metadata": {
      "needs_background": "light"
     },
     "output_type": "display_data"
    }
   ],
   "source": [
    "fig, ax = plt.subplots(2,1, figsize = (6,7))\n",
    "\n",
    "ax[0].hist(df.age_treat, bins = 10, edgecolor = 'black', facecolor = 'gray')\n",
    "ax[0].set_title(\"Treatment\")\n",
    "\n",
    "ax[1].hist(df.age_control, bins = 10, edgecolor = 'black', facecolor = 'gray')\n",
    "ax[1].set_title(\"Control\")\n",
    "\n",
    "for item in ax:\n",
    "    item.set_xlabel('Age')\n",
    "    item.set_ylabel(\"Frequency\")\n",
    "\n",
    "fig.tight_layout()"
   ]
  },
  {
   "cell_type": "code",
   "execution_count": 9,
   "metadata": {},
   "outputs": [],
   "source": [
    "# compare means"
   ]
  },
  {
   "cell_type": "code",
   "execution_count": 10,
   "metadata": {},
   "outputs": [
    {
     "data": {
      "text/plain": [
       "age_treat            24.3\n",
       "earnings_treat    11075.0\n",
       "dtype: float64"
      ]
     },
     "execution_count": 10,
     "metadata": {},
     "output_type": "execute_result"
    }
   ],
   "source": [
    "df.loc[0:9,['age_treat', 'earnings_treat']].astype(float).mean() # type changed to avoid sci notation"
   ]
  },
  {
   "cell_type": "code",
   "execution_count": 11,
   "metadata": {},
   "outputs": [
    {
     "data": {
      "text/plain": [
       "age_matched           24.3\n",
       "earnings_matched    9380.0\n",
       "dtype: float64"
      ]
     },
     "execution_count": 11,
     "metadata": {},
     "output_type": "execute_result"
    }
   ],
   "source": [
    "df.loc[0:9,['age_matched', 'earnings_matched']].mean()"
   ]
  },
  {
   "cell_type": "code",
   "execution_count": null,
   "metadata": {},
   "outputs": [],
   "source": []
  }
 ],
 "metadata": {
  "kernelspec": {
   "display_name": "Python 3",
   "language": "python",
   "name": "python3"
  },
  "language_info": {
   "codemirror_mode": {
    "name": "ipython",
    "version": 3
   },
   "file_extension": ".py",
   "mimetype": "text/x-python",
   "name": "python",
   "nbconvert_exporter": "python",
   "pygments_lexer": "ipython3",
   "version": "3.7.6"
  }
 },
 "nbformat": 4,
 "nbformat_minor": 4
}
