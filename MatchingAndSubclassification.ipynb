{
 "cells": [
  {
   "cell_type": "markdown",
   "metadata": {},
   "source": [
    "# Matching and Subclassification"
   ]
  },
  {
   "cell_type": "code",
   "execution_count": 1,
   "metadata": {},
   "outputs": [],
   "source": [
    "import numpy as np\n",
    "import pandas as pd\n",
    "import statsmodels.api as sm\n",
    "import matplotlib.pyplot as plt\n",
    "import math\n",
    "import random"
   ]
  },
  {
   "cell_type": "markdown",
   "metadata": {},
   "source": [
    "# 5.1.3 Subclassification Exercise"
   ]
  },
  {
   "cell_type": "code",
   "execution_count": 2,
   "metadata": {},
   "outputs": [
    {
     "name": "stdout",
     "output_type": "stream",
     "text": [
      "0.3538264720354272\n"
     ]
    }
   ],
   "source": [
    "# titanic\n",
    "\n",
    "url = 'https://github.com/scunning1975/mixtape/raw/master/titanic.dta'\n",
    "\n",
    "df = pd.read_stata(url)\n",
    "\n",
    "# calculate SDO\n",
    "\n",
    "df['is_first_class'] = df['class'] == '1st class'\n",
    "df['survived'] = df.survived == 'yes'\n",
    "\n",
    "grouped_mean = df.groupby(\"is_first_class\").survived.mean()\n",
    "SDO = grouped_mean[True] - grouped_mean[False]\n",
    "print(SDO)"
   ]
  },
  {
   "cell_type": "code",
   "execution_count": 3,
   "metadata": {},
   "outputs": [],
   "source": [
    "# titanic_subclassification\n",
    "\n",
    "# stratify into four groups\n",
    "\n",
    "df['group'] = None\n",
    "\n",
    "for age in set(df.age):\n",
    "    is_age = df.age == age\n",
    "    \n",
    "    for sex in set(df.sex):\n",
    "        is_sex = df.sex == sex\n",
    "        \n",
    "        df.loc[is_age & is_sex, 'group'] = age + \"-\" + sex"
   ]
  },
  {
   "cell_type": "code",
   "execution_count": 4,
   "metadata": {},
   "outputs": [
    {
     "data": {
      "text/plain": [
       "Text(0, 0.5, 'Age & Sex Group')"
      ]
     },
     "execution_count": 4,
     "metadata": {},
     "output_type": "execute_result"
    },
    {
     "data": {
      "image/png": "[encoded data removed]",
      "text/plain": [
       "<Figure size 432x288 with 1 Axes>"
      ]
     },
     "metadata": {
      "needs_background": "light"
     },
     "output_type": "display_data"
    }
   ],
   "source": [
    "df.groupby(\"group\").survived.mean().sort_values().plot.barh()\n",
    "plt.title(\"Survival Probabilities By Group\")\n",
    "plt.xlabel('Probability of Survival')\n",
    "plt.ylabel(\"Age & Sex Group\")"
   ]
  },
  {
   "cell_type": "code",
   "execution_count": 5,
   "metadata": {},
   "outputs": [
    {
     "name": "stdout",
     "output_type": "stream",
     "text": [
      "Weighted Average Treatment Effect: 0.1888\n"
     ]
    }
   ],
   "source": [
    "non_first_class = df[df.is_first_class == False]\n",
    "\n",
    "weights = non_first_class.groupby('group').survived.count() / len(non_first_class)\n",
    "\n",
    "# Weighted ATE\n",
    "\n",
    "wate = 0\n",
    "\n",
    "for group in weights.index:\n",
    "    \n",
    "    temp = df[df.group == group]\n",
    "    grouped_mean = temp.groupby('is_first_class').survived.mean()\n",
    "    \n",
    "    sdo = grouped_mean[True] - grouped_mean[False]\n",
    "    \n",
    "    wate += weights[group]*sdo\n",
    "    \n",
    "print('Weighted Average Treatment Effect', round(wate,4), sep = ': ')"
   ]
  },
  {
   "cell_type": "markdown",
   "metadata": {},
   "source": [
    "# 5.2 Exact Matching"
   ]
  },
  {
   "cell_type": "code",
   "execution_count": 6,
   "metadata": {},
   "outputs": [],
   "source": [
    "import warnings\n",
    "# ignoring warnings related to histograms\n",
    "warnings.filterwarnings('ignore')"
   ]
  },
  {
   "cell_type": "code",
   "execution_count": 7,
   "metadata": {},
   "outputs": [],
   "source": [
    "url = \"https://raw.github.com/scunning1975/mixtape/master/training_example.dta\"\n",
    "\n",
    "df = pd.read_stata(url)"
   ]
  },
  {
   "cell_type": "code",
   "execution_count": 8,
   "metadata": {},
   "outputs": [
    {
     "data": {
      "image/png": "[encoded data removed]",
      "text/plain": [
       "<Figure size 432x504 with 2 Axes>"
      ]
     },
     "metadata": {
      "needs_background": "light"
     },
     "output_type": "display_data"
    }
   ],
   "source": [
    "fig, ax = plt.subplots(2,1, figsize = (6,7))\n",
    "\n",
    "ax[0].hist(df.age_treat, bins = 10, edgecolor = 'black', facecolor = 'gray')\n",
    "ax[0].set_title(\"Treatment\")\n",
    "\n",
    "ax[1].hist(df.age_control, bins = 10, edgecolor = 'black', facecolor = 'gray')\n",
    "ax[1].set_title(\"Control\")\n",
    "\n",
    "for item in ax:\n",
    "    item.set_xlabel('Age')\n",
    "    item.set_ylabel(\"Frequency\")\n",
    "\n",
    "fig.tight_layout()"
   ]
  },
  {
   "cell_type": "code",
   "execution_count": 9,
   "metadata": {},
   "outputs": [],
   "source": [
    "# compare means"
   ]
  },
  {
   "cell_type": "code",
   "execution_count": 10,
   "metadata": {},
   "outputs": [
    {
     "data": {
      "text/plain": [
       "age_treat            24.3\n",
       "earnings_treat    11075.0\n",
       "dtype: float64"
      ]
     },
     "execution_count": 10,
     "metadata": {},
     "output_type": "execute_result"
    }
   ],
   "source": [
    "df.loc[0:9,['age_treat', 'earnings_treat']].astype(float).mean() # type changed to avoid sci notation"
   ]
  },
  {
   "cell_type": "code",
   "execution_count": 11,
   "metadata": {},
   "outputs": [
    {
     "data": {
      "text/plain": [
       "age_matched           24.3\n",
       "earnings_matched    9380.0\n",
       "dtype: float64"
      ]
     },
     "execution_count": 11,
     "metadata": {},
     "output_type": "execute_result"
    }
   ],
   "source": [
    "df.loc[0:9,['age_matched', 'earnings_matched']].mean()"
   ]
  },
  {
   "cell_type": "code",
   "execution_count": 12,
   "metadata": {},
   "outputs": [
    {
     "data": {
      "image/png": "[encoded data removed]",
      "text/plain": [
       "<Figure size 432x288 with 1 Axes>"
      ]
     },
     "metadata": {
      "needs_background": "light"
     },
     "output_type": "display_data"
    }
   ],
   "source": [
    "# Groups are exactly balanced on age\n",
    "# Figure 5.2 \n",
    "\n",
    "fig, ax = plt.figure(), plt.axes()\n",
    "ax.hist(df.age_matched, bins = 10, edgecolor = 'black', facecolor = 'gray')\n",
    "ax.set_title(\"Matched Sample\")\n",
    "ax.set_xlabel(\"Age\")\n",
    "ax.set_ylabel(\"Frequency\")\n",
    "ax.set_xlim([15,35])\n",
    "ax.set_xticks(range(15,36,5))\n",
    "ax.set_yticks(np.linspace(0,2, 5))\n",
    "plt.show()"
   ]
  },
  {
   "cell_type": "markdown",
   "metadata": {},
   "source": [
    "# 5.3 Approximate Matching"
   ]
  },
  {
   "cell_type": "markdown",
   "metadata": {},
   "source": [
    "## 5.3.2 Bias Correction"
   ]
  },
  {
   "cell_type": "code",
   "execution_count": 13,
   "metadata": {},
   "outputs": [],
   "source": [
    "# training_bias_reduction\n",
    "\n",
    "url =  'https://github.com/scunning1975/mixtape/raw/master/training_bias_reduction.dta'\n",
    "df = pd.read_stata(url)"
   ]
  },
  {
   "cell_type": "code",
   "execution_count": 14,
   "metadata": {},
   "outputs": [
    {
     "data": {
      "text/html": [
       "<div>\n",
       "<style scoped>\n",
       "    .dataframe tbody tr th:only-of-type {\n",
       "        vertical-align: middle;\n",
       "    }\n",
       "\n",
       "    .dataframe tbody tr th {\n",
       "        vertical-align: top;\n",
       "    }\n",
       "\n",
       "    .dataframe thead th {\n",
       "        text-align: right;\n",
       "    }\n",
       "</style>\n",
       "<table border=\"1\" class=\"dataframe\">\n",
       "  <thead>\n",
       "    <tr style=\"text-align: right;\">\n",
       "      <th></th>\n",
       "      <th>Unit</th>\n",
       "      <th>Y</th>\n",
       "      <th>D</th>\n",
       "      <th>X</th>\n",
       "      <th>Y0</th>\n",
       "      <th>Y1</th>\n",
       "    </tr>\n",
       "  </thead>\n",
       "  <tbody>\n",
       "    <tr>\n",
       "      <th>0</th>\n",
       "      <td>1</td>\n",
       "      <td>5</td>\n",
       "      <td>1</td>\n",
       "      <td>11</td>\n",
       "      <td>4</td>\n",
       "      <td>5.0</td>\n",
       "    </tr>\n",
       "    <tr>\n",
       "      <th>1</th>\n",
       "      <td>2</td>\n",
       "      <td>2</td>\n",
       "      <td>1</td>\n",
       "      <td>7</td>\n",
       "      <td>0</td>\n",
       "      <td>2.0</td>\n",
       "    </tr>\n",
       "    <tr>\n",
       "      <th>2</th>\n",
       "      <td>3</td>\n",
       "      <td>10</td>\n",
       "      <td>1</td>\n",
       "      <td>5</td>\n",
       "      <td>5</td>\n",
       "      <td>10.0</td>\n",
       "    </tr>\n",
       "    <tr>\n",
       "      <th>3</th>\n",
       "      <td>4</td>\n",
       "      <td>6</td>\n",
       "      <td>1</td>\n",
       "      <td>3</td>\n",
       "      <td>1</td>\n",
       "      <td>6.0</td>\n",
       "    </tr>\n",
       "    <tr>\n",
       "      <th>4</th>\n",
       "      <td>5</td>\n",
       "      <td>4</td>\n",
       "      <td>0</td>\n",
       "      <td>10</td>\n",
       "      <td>4</td>\n",
       "      <td>NaN</td>\n",
       "    </tr>\n",
       "    <tr>\n",
       "      <th>5</th>\n",
       "      <td>6</td>\n",
       "      <td>0</td>\n",
       "      <td>0</td>\n",
       "      <td>8</td>\n",
       "      <td>0</td>\n",
       "      <td>NaN</td>\n",
       "    </tr>\n",
       "    <tr>\n",
       "      <th>6</th>\n",
       "      <td>7</td>\n",
       "      <td>5</td>\n",
       "      <td>0</td>\n",
       "      <td>4</td>\n",
       "      <td>5</td>\n",
       "      <td>NaN</td>\n",
       "    </tr>\n",
       "    <tr>\n",
       "      <th>7</th>\n",
       "      <td>8</td>\n",
       "      <td>1</td>\n",
       "      <td>0</td>\n",
       "      <td>1</td>\n",
       "      <td>1</td>\n",
       "      <td>NaN</td>\n",
       "    </tr>\n",
       "  </tbody>\n",
       "</table>\n",
       "</div>"
      ],
      "text/plain": [
       "   Unit   Y  D   X  Y0    Y1\n",
       "0     1   5  1  11   4   5.0\n",
       "1     2   2  1   7   0   2.0\n",
       "2     3  10  1   5   5  10.0\n",
       "3     4   6  1   3   1   6.0\n",
       "4     5   4  0  10   4   NaN\n",
       "5     6   0  0   8   0   NaN\n",
       "6     7   5  0   4   5   NaN\n",
       "7     8   1  0   1   1   NaN"
      ]
     },
     "execution_count": 14,
     "metadata": {},
     "output_type": "execute_result"
    }
   ],
   "source": [
    "df['Y0'] = [4,0,5,1]*2\n",
    "df['Y1'] = [5, 2, 10, 6] + [None]*4\n",
    "\n",
    "df"
   ]
  },
  {
   "cell_type": "code",
   "execution_count": 15,
   "metadata": {},
   "outputs": [],
   "source": [
    "unadjusted_treatment_effect = (df.Y1 - df.Y0).mean()"
   ]
  },
  {
   "cell_type": "code",
   "execution_count": 16,
   "metadata": {},
   "outputs": [
    {
     "data": {
      "text/plain": [
       "3.25"
      ]
     },
     "execution_count": 16,
     "metadata": {},
     "output_type": "execute_result"
    }
   ],
   "source": [
    "unadjusted_treatment_effect"
   ]
  },
  {
   "cell_type": "code",
   "execution_count": 17,
   "metadata": {},
   "outputs": [],
   "source": [
    "## OLS "
   ]
  },
  {
   "cell_type": "code",
   "execution_count": 18,
   "metadata": {},
   "outputs": [],
   "source": [
    "import statsmodels.api as sm"
   ]
  },
  {
   "cell_type": "code",
   "execution_count": 19,
   "metadata": {},
   "outputs": [],
   "source": [
    "df['const'] = 1\n",
    "model = sm.OLS(df.Y, df[['X','const']])\n"
   ]
  },
  {
   "cell_type": "code",
   "execution_count": 20,
   "metadata": {},
   "outputs": [],
   "source": [
    "fitted = model.fit()\n",
    "\n",
    "#print(fitted.summary())"
   ]
  },
  {
   "cell_type": "code",
   "execution_count": 21,
   "metadata": {},
   "outputs": [],
   "source": [
    "mu_hat = df[['X','const']].apply(lambda x: np.dot(x,fitted.params), axis = 1)"
   ]
  },
  {
   "cell_type": "code",
   "execution_count": 22,
   "metadata": {},
   "outputs": [],
   "source": [
    "df['mu_hat'] = mu_hat"
   ]
  },
  {
   "cell_type": "code",
   "execution_count": 23,
   "metadata": {},
   "outputs": [],
   "source": [
    "# bias corrected att\n",
    "\n",
    "df['nearest_mu_hat'] = df.mu_hat.shift(-4)"
   ]
  },
  {
   "cell_type": "code",
   "execution_count": 24,
   "metadata": {},
   "outputs": [],
   "source": [
    "adjusted_att = ((df.Y1 - df.Y0) - (df.mu_hat - df.nearest_mu_hat)).mean()"
   ]
  },
  {
   "cell_type": "code",
   "execution_count": 25,
   "metadata": {},
   "outputs": [
    {
     "data": {
      "text/plain": [
       "3.2864506627393224"
      ]
     },
     "execution_count": 25,
     "metadata": {},
     "output_type": "execute_result"
    }
   ],
   "source": [
    "adjusted_att"
   ]
  },
  {
   "cell_type": "markdown",
   "metadata": {},
   "source": [
    "## 5.3.4 Propensity Score Methods"
   ]
  },
  {
   "cell_type": "code",
   "execution_count": 39,
   "metadata": {},
   "outputs": [],
   "source": [
    "# nsw_experimental\n",
    "\n",
    "url = 'https://github.com/scunning1975/mixtape/raw/master/nsw_mixtape.dta'\n",
    "df = pd.read_stata(url)"
   ]
  },
  {
   "cell_type": "code",
   "execution_count": 40,
   "metadata": {},
   "outputs": [
    {
     "name": "stdout",
     "output_type": "stream",
     "text": [
      "ATE: 1794.3423\n"
     ]
    }
   ],
   "source": [
    "grouped_means = df.groupby('treat').re78.mean()\n",
    "ate = grouped_means[1] - grouped_means[0]\n",
    "\n",
    "print('ATE:', ate)"
   ]
  },
  {
   "cell_type": "markdown",
   "metadata": {},
   "source": [
    "#### Pscores"
   ]
  },
  {
   "cell_type": "code",
   "execution_count": 41,
   "metadata": {},
   "outputs": [],
   "source": [
    "# nsw_pscore\n",
    "\n",
    "cps_url = 'https://github.com/scunning1975/mixtape/raw/master/cps_mixtape.dta'\n",
    "cps_df = pd.read_stata(cps_url)"
   ]
  },
  {
   "cell_type": "code",
   "execution_count": 42,
   "metadata": {},
   "outputs": [],
   "source": [
    "# combine datasets\n",
    "combined = cps_df.append(df)\n",
    "\n",
    "combined['u74'], combined['u75'] = 1 * (combined.re74 == 0), 1 * (combined.re75 == 0)"
   ]
  },
  {
   "cell_type": "code",
   "execution_count": 43,
   "metadata": {},
   "outputs": [
    {
     "name": "stdout",
     "output_type": "stream",
     "text": [
      "Optimization terminated successfully.\n",
      "         Current function value: 0.032425\n",
      "         Iterations 12\n"
     ]
    }
   ],
   "source": [
    "# fit logit \n",
    "combined['age_sq'] = combined.age ** 2\n",
    "combined['age_cube'] = combined.age ** 3\n",
    "combined['educ_sq'] = combined.educ ** 2\n",
    "combined['educ_re74'] = combined.educ * combined.re74\n",
    "combined['const'] = 1\n",
    "\n",
    "X_vars = ['age', 'age_sq', 'age_cube', 'educ', 'educ_sq', 'marr', 'nodegree',\n",
    "             'black', 'hisp', 're74', 're75', 'u74', 'u75', 'educ_re74', 'const']\n",
    "\n",
    "logit_model = sm.Logit(combined.treat, combined[X_vars], )\n",
    "fitted = logit_model.fit()"
   ]
  },
  {
   "cell_type": "code",
   "execution_count": 44,
   "metadata": {},
   "outputs": [],
   "source": [
    "from scipy.special import expit\n",
    "\n",
    "# full form\n",
    "# combined['logit_pscore'] = combined[X_vars].apply(lambda x: expit(np.dot(x,fitted.params)), axis = 1)\n",
    "\n",
    "combined['logit_pscore'] = fitted.predict(combined[X_vars])"
   ]
  },
  {
   "cell_type": "code",
   "execution_count": 45,
   "metadata": {},
   "outputs": [
    {
     "data": {
      "image/png": "[encoded data removed]",
      "text/plain": [
       "<Figure size 432x288 with 2 Axes>"
      ]
     },
     "metadata": {
      "needs_background": "light"
     },
     "output_type": "display_data"
    }
   ],
   "source": [
    "fig, ax = plt.subplots(1,2)\n",
    "\n",
    "#from math import log\n",
    "#k = int(min(np.sqrt(len(combined)), 10* log(len(combined))/log(10)))\n",
    "\n",
    "ax[0].hist(combined[combined.treat == 0].logit_pscore, \n",
    "                bins = 30, facecolor = 'gray', edgecolor = 'black', density = True)\n",
    "ax[1].hist(combined[combined.treat == 1].logit_pscore, \n",
    "                bins = 30, facecolor = 'gray', edgecolor = 'black', density = True)\n",
    "    \n",
    "for key in 0,1:\n",
    "    ax[key].set_ylim((0,50))\n",
    "    ax[key].set_xlim((0,1))\n",
    "    ax[key].set_title(r\"$D_i = \" + str(key) + r\"$\")\n"
   ]
  },
  {
   "cell_type": "code",
   "execution_count": 46,
   "metadata": {},
   "outputs": [
    {
     "name": "stdout",
     "output_type": "stream",
     "text": [
      "                           Logit Regression Results                           \n",
      "==============================================================================\n",
      "Dep. Variable:                  treat   No. Observations:                16437\n",
      "Model:                          Logit   Df Residuals:                    16422\n",
      "Method:                           MLE   Df Model:                           14\n",
      "Date:                Tue, 11 May 2021   Pseudo R-squ.:                  0.4744\n",
      "Time:                        14:40:52   Log-Likelihood:                -532.97\n",
      "converged:                       True   LL-Null:                       -1014.0\n",
      "Covariance Type:            nonrobust   LLR p-value:                2.073e-196\n",
      "==============================================================================\n",
      "                 coef    std err          z      P>|z|      [0.025      0.975]\n",
      "------------------------------------------------------------------------------\n",
      "age            1.2369      0.307      4.027      0.000       0.635       1.839\n",
      "age_sq        -0.0335      0.010     -3.382      0.001      -0.053      -0.014\n",
      "age_cube       0.0003      0.000      2.703      0.007    7.51e-05       0.000\n",
      "educ           0.5070      0.217      2.334      0.020       0.081       0.933\n",
      "educ_sq       -0.0333      0.012     -2.861      0.004      -0.056      -0.010\n",
      "marr          -0.9170      0.226     -4.053      0.000      -1.360      -0.474\n",
      "nodegree       0.1493      0.284      0.525      0.600      -0.408       0.707\n",
      "black          3.2811      0.266     12.338      0.000       2.760       3.802\n",
      "hisp           1.6077      0.395      4.072      0.000       0.834       2.381\n",
      "re74       -8.049e-05   8.74e-05     -0.921      0.357      -0.000    9.09e-05\n",
      "re75          -0.0002    3.5e-05     -4.906      0.000      -0.000      -0.000\n",
      "u74            1.0865      0.270      4.028      0.000       0.558       1.615\n",
      "u75           -0.3577      0.235     -1.522      0.128      -0.818       0.103\n",
      "educ_re74   8.285e-06   7.54e-06      1.099      0.272   -6.49e-06    2.31e-05\n",
      "const        -20.1283      3.234     -6.224      0.000     -26.467     -13.790\n",
      "==============================================================================\n",
      "\n",
      "Possibly complete quasi-separation: A fraction 0.32 of observations can be\n",
      "perfectly predicted. This might indicate that there is complete\n",
      "quasi-separation. In this case some parameters will not be identified.\n"
     ]
    }
   ],
   "source": [
    "print(fitted.summary())"
   ]
  },
  {
   "cell_type": "markdown",
   "metadata": {},
   "source": [
    "# 5.3.5 Weighting on the propensity score"
   ]
  },
  {
   "cell_type": "code",
   "execution_count": 47,
   "metadata": {},
   "outputs": [
    {
     "data": {
      "text/html": [
       "<div>\n",
       "<style scoped>\n",
       "    .dataframe tbody tr th:only-of-type {\n",
       "        vertical-align: middle;\n",
       "    }\n",
       "\n",
       "    .dataframe tbody tr th {\n",
       "        vertical-align: top;\n",
       "    }\n",
       "\n",
       "    .dataframe thead th {\n",
       "        text-align: right;\n",
       "    }\n",
       "</style>\n",
       "<table border=\"1\" class=\"dataframe\">\n",
       "  <thead>\n",
       "    <tr style=\"text-align: right;\">\n",
       "      <th></th>\n",
       "      <th>data_id</th>\n",
       "      <th>treat</th>\n",
       "      <th>age</th>\n",
       "      <th>educ</th>\n",
       "      <th>black</th>\n",
       "      <th>hisp</th>\n",
       "      <th>marr</th>\n",
       "      <th>nodegree</th>\n",
       "      <th>re74</th>\n",
       "      <th>re75</th>\n",
       "      <th>re78</th>\n",
       "      <th>u74</th>\n",
       "      <th>u75</th>\n",
       "      <th>age_sq</th>\n",
       "      <th>age_cube</th>\n",
       "      <th>educ_sq</th>\n",
       "      <th>educ_re74</th>\n",
       "      <th>const</th>\n",
       "      <th>logit_pscore</th>\n",
       "    </tr>\n",
       "  </thead>\n",
       "  <tbody>\n",
       "    <tr>\n",
       "      <th>0</th>\n",
       "      <td>CPS1</td>\n",
       "      <td>0.0</td>\n",
       "      <td>45.0</td>\n",
       "      <td>11.0</td>\n",
       "      <td>0.0</td>\n",
       "      <td>0.0</td>\n",
       "      <td>1.0</td>\n",
       "      <td>1.0</td>\n",
       "      <td>21516.669922</td>\n",
       "      <td>25243.550781</td>\n",
       "      <td>25564.669922</td>\n",
       "      <td>0</td>\n",
       "      <td>0</td>\n",
       "      <td>2025.0</td>\n",
       "      <td>91125.0</td>\n",
       "      <td>121.0</td>\n",
       "      <td>236683.375000</td>\n",
       "      <td>1</td>\n",
       "      <td>0.000020</td>\n",
       "    </tr>\n",
       "    <tr>\n",
       "      <th>1</th>\n",
       "      <td>CPS1</td>\n",
       "      <td>0.0</td>\n",
       "      <td>21.0</td>\n",
       "      <td>14.0</td>\n",
       "      <td>0.0</td>\n",
       "      <td>0.0</td>\n",
       "      <td>0.0</td>\n",
       "      <td>0.0</td>\n",
       "      <td>3175.970947</td>\n",
       "      <td>5852.564941</td>\n",
       "      <td>13496.080078</td>\n",
       "      <td>0</td>\n",
       "      <td>0</td>\n",
       "      <td>441.0</td>\n",
       "      <td>9261.0</td>\n",
       "      <td>196.0</td>\n",
       "      <td>44463.593750</td>\n",
       "      <td>1</td>\n",
       "      <td>0.001190</td>\n",
       "    </tr>\n",
       "    <tr>\n",
       "      <th>2</th>\n",
       "      <td>CPS1</td>\n",
       "      <td>0.0</td>\n",
       "      <td>38.0</td>\n",
       "      <td>12.0</td>\n",
       "      <td>0.0</td>\n",
       "      <td>0.0</td>\n",
       "      <td>1.0</td>\n",
       "      <td>0.0</td>\n",
       "      <td>23039.019531</td>\n",
       "      <td>25130.759766</td>\n",
       "      <td>25564.669922</td>\n",
       "      <td>0</td>\n",
       "      <td>0</td>\n",
       "      <td>1444.0</td>\n",
       "      <td>54872.0</td>\n",
       "      <td>144.0</td>\n",
       "      <td>276468.250000</td>\n",
       "      <td>1</td>\n",
       "      <td>0.000042</td>\n",
       "    </tr>\n",
       "    <tr>\n",
       "      <th>3</th>\n",
       "      <td>CPS1</td>\n",
       "      <td>0.0</td>\n",
       "      <td>48.0</td>\n",
       "      <td>6.0</td>\n",
       "      <td>0.0</td>\n",
       "      <td>0.0</td>\n",
       "      <td>1.0</td>\n",
       "      <td>1.0</td>\n",
       "      <td>24994.369141</td>\n",
       "      <td>25243.550781</td>\n",
       "      <td>25564.669922</td>\n",
       "      <td>0</td>\n",
       "      <td>0</td>\n",
       "      <td>2304.0</td>\n",
       "      <td>110592.0</td>\n",
       "      <td>36.0</td>\n",
       "      <td>149966.218750</td>\n",
       "      <td>1</td>\n",
       "      <td>0.000007</td>\n",
       "    </tr>\n",
       "    <tr>\n",
       "      <th>4</th>\n",
       "      <td>CPS1</td>\n",
       "      <td>0.0</td>\n",
       "      <td>18.0</td>\n",
       "      <td>8.0</td>\n",
       "      <td>0.0</td>\n",
       "      <td>0.0</td>\n",
       "      <td>1.0</td>\n",
       "      <td>1.0</td>\n",
       "      <td>1669.295044</td>\n",
       "      <td>10727.610352</td>\n",
       "      <td>9860.869141</td>\n",
       "      <td>0</td>\n",
       "      <td>0</td>\n",
       "      <td>324.0</td>\n",
       "      <td>5832.0</td>\n",
       "      <td>64.0</td>\n",
       "      <td>13354.360352</td>\n",
       "      <td>1</td>\n",
       "      <td>0.000392</td>\n",
       "    </tr>\n",
       "  </tbody>\n",
       "</table>\n",
       "</div>"
      ],
      "text/plain": [
       "  data_id  treat   age  educ  black  hisp  marr  nodegree          re74  \\\n",
       "0    CPS1    0.0  45.0  11.0    0.0   0.0   1.0       1.0  21516.669922   \n",
       "1    CPS1    0.0  21.0  14.0    0.0   0.0   0.0       0.0   3175.970947   \n",
       "2    CPS1    0.0  38.0  12.0    0.0   0.0   1.0       0.0  23039.019531   \n",
       "3    CPS1    0.0  48.0   6.0    0.0   0.0   1.0       1.0  24994.369141   \n",
       "4    CPS1    0.0  18.0   8.0    0.0   0.0   1.0       1.0   1669.295044   \n",
       "\n",
       "           re75          re78  u74  u75  age_sq  age_cube  educ_sq  \\\n",
       "0  25243.550781  25564.669922    0    0  2025.0   91125.0    121.0   \n",
       "1   5852.564941  13496.080078    0    0   441.0    9261.0    196.0   \n",
       "2  25130.759766  25564.669922    0    0  1444.0   54872.0    144.0   \n",
       "3  25243.550781  25564.669922    0    0  2304.0  110592.0     36.0   \n",
       "4  10727.610352   9860.869141    0    0   324.0    5832.0     64.0   \n",
       "\n",
       "       educ_re74  const  logit_pscore  \n",
       "0  236683.375000      1      0.000020  \n",
       "1   44463.593750      1      0.001190  \n",
       "2  276468.250000      1      0.000042  \n",
       "3  149966.218750      1      0.000007  \n",
       "4   13354.360352      1      0.000392  "
      ]
     },
     "execution_count": 47,
     "metadata": {},
     "output_type": "execute_result"
    }
   ],
   "source": [
    "# ipw\n",
    "\n",
    "combined.head()"
   ]
  },
  {
   "cell_type": "code",
   "execution_count": 48,
   "metadata": {},
   "outputs": [],
   "source": [
    "N = len(combined)\n",
    "\n",
    "# manual with non-normalized weights using all data\n",
    "\n",
    "combined['d1'] = combined.treat / combined.logit_pscore\n",
    "combined['d0'] = (1-combined.treat) / (1-combined.logit_pscore)"
   ]
  },
  {
   "cell_type": "code",
   "execution_count": 49,
   "metadata": {},
   "outputs": [],
   "source": [
    "s1, s0 = combined.d1.sum(), combined.d0.sum()"
   ]
  },
  {
   "cell_type": "code",
   "execution_count": 51,
   "metadata": {},
   "outputs": [],
   "source": [
    "combined['y1'] = combined.treat * combined.re78 / combined.logit_pscore\n",
    "combined['y0'] = (1-combined.treat) * combined.re78 / (1-combined.logit_pscore)\n",
    "combined['ht'] = combined.y1 - combined.y0"
   ]
  },
  {
   "cell_type": "code",
   "execution_count": 53,
   "metadata": {},
   "outputs": [
    {
     "name": "stdout",
     "output_type": "stream",
     "text": [
      "Treatment effect (non-normalized) -12504.9038\n"
     ]
    }
   ],
   "source": [
    "te_1 = combined.ht.mean()\n",
    "print(\"Treatment effect (non-normalized)\", round(te_1, 4))"
   ]
  },
  {
   "cell_type": "code",
   "execution_count": null,
   "metadata": {},
   "outputs": [],
   "source": []
  }
 ],
 "metadata": {
  "kernelspec": {
   "display_name": "Python 3",
   "language": "python",
   "name": "python3"
  },
  "language_info": {
   "codemirror_mode": {
    "name": "ipython",
    "version": 3
   },
   "file_extension": ".py",
   "mimetype": "text/x-python",
   "name": "python",
   "nbconvert_exporter": "python",
   "pygments_lexer": "ipython3",
   "version": "3.7.6"
  }
 },
 "nbformat": 4,
 "nbformat_minor": 4
}
