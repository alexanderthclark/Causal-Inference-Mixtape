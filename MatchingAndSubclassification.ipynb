{
 "cells": [
  {
   "cell_type": "markdown",
   "metadata": {},
   "source": [
    "# Matching and Subclassification"
   ]
  },
  {
   "cell_type": "code",
   "execution_count": 1,
   "metadata": {},
   "outputs": [],
   "source": [
    "import numpy as np\n",
    "import pandas as pd\n",
    "import statsmodels.api as sm\n",
    "import matplotlib.pyplot as plt\n",
    "import math\n",
    "import random"
   ]
  },
  {
   "cell_type": "markdown",
   "metadata": {},
   "source": [
    "# 5.1.3 Subclassification Exercise"
   ]
  },
  {
   "cell_type": "code",
   "execution_count": 16,
   "metadata": {},
   "outputs": [
    {
     "name": "stdout",
     "output_type": "stream",
     "text": [
      "0.3538264720354272\n"
     ]
    }
   ],
   "source": [
    "# titanic\n",
    "\n",
    "url = 'https://github.com/scunning1975/mixtape/raw/master/titanic.dta'\n",
    "\n",
    "df = pd.read_stata(url)\n",
    "\n",
    "# calculate SDO\n",
    "\n",
    "df['is_first_class'] = df['class'] == '1st class'\n",
    "df['survived'] = df.survived == 'yes'\n",
    "\n",
    "grouped_mean = df.groupby(\"is_first_class\").survived.mean()\n",
    "SDO = grouped_mean[True] - grouped_mean[False]\n",
    "print(SDO)"
   ]
  },
  {
   "cell_type": "code",
   "execution_count": 34,
   "metadata": {},
   "outputs": [],
   "source": [
    "# titanic_subclassification\n",
    "\n",
    "# stratify into four groups\n",
    "\n",
    "df['group'] = None\n",
    "\n",
    "for age in set(df.age):\n",
    "    is_age = df.age == age\n",
    "    \n",
    "    for sex in set(df.sex):\n",
    "        is_sex = df.sex == sex\n",
    "        \n",
    "        df.loc[is_age & is_sex, 'group'] = age + \"-\" + sex"
   ]
  },
  {
   "cell_type": "code",
   "execution_count": 37,
   "metadata": {},
   "outputs": [
    {
     "data": {
      "text/plain": [
       "Text(0, 0.5, 'Age & Sex Group')"
      ]
     },
     "execution_count": 37,
     "metadata": {},
     "output_type": "execute_result"
    },
    {
     "data": {
      "image/png": "[encoded data removed]",
      "text/plain": [
       "<Figure size 432x288 with 1 Axes>"
      ]
     },
     "metadata": {
      "needs_background": "light"
     },
     "output_type": "display_data"
    }
   ],
   "source": [
    "df.groupby(\"group\").survived.mean().sort_values().plot.barh()\n",
    "plt.title(\"Survival Probabilities By Group\")\n",
    "plt.xlabel('Probability of Survival')\n",
    "plt.ylabel(\"Age & Sex Group\")"
   ]
  },
  {
   "cell_type": "code",
   "execution_count": 62,
   "metadata": {},
   "outputs": [
    {
     "name": "stdout",
     "output_type": "stream",
     "text": [
      "Weighted Average Treatment Effect 0.1888\n"
     ]
    }
   ],
   "source": [
    "non_first_class = df[df.is_first_class == False]\n",
    "\n",
    "weights = non_first_class.groupby('group').survived.count() / len(non_first_class)\n",
    "\n",
    "# Weighted ATE\n",
    "\n",
    "wate = 0\n",
    "\n",
    "for group in weights.index:\n",
    "    \n",
    "    temp = df[df.group == group]\n",
    "    grouped_mean = temp.groupby('is_first_class').survived.mean()\n",
    "    \n",
    "    sdo = grouped_mean[True] - grouped_mean[False]\n",
    "    \n",
    "    wate += weights[group]*sdo\n",
    "    \n",
    "print('Weighted Average Treatment Effect', round(wate,4))"
   ]
  }
 ],
 "metadata": {
  "kernelspec": {
   "display_name": "Python 3",
   "language": "python",
   "name": "python3"
  },
  "language_info": {
   "codemirror_mode": {
    "name": "ipython",
    "version": 3
   },
   "file_extension": ".py",
   "mimetype": "text/x-python",
   "name": "python",
   "nbconvert_exporter": "python",
   "pygments_lexer": "ipython3",
   "version": "3.7.6"
  }
 },
 "nbformat": 4,
 "nbformat_minor": 4
}
