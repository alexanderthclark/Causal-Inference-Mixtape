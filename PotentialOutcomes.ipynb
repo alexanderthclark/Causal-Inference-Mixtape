{
 "cells": [
  {
   "cell_type": "markdown",
   "metadata": {},
   "source": [
    "# 4 Potential Outcomes Model"
   ]
  },
  {
   "cell_type": "code",
   "execution_count": 1,
   "metadata": {},
   "outputs": [],
   "source": [
    "import numpy as np\n",
    "import pandas as pd\n",
    "import statsmodels.api as sm\n",
    "import matplotlib.pyplot as plt\n",
    "import math\n",
    "import random"
   ]
  },
  {
   "cell_type": "code",
   "execution_count": 2,
   "metadata": {},
   "outputs": [],
   "source": [
    "np.random.seed(91)\n",
    "random.seed(91)"
   ]
  },
  {
   "cell_type": "markdown",
   "metadata": {},
   "source": [
    "## 4.0.1 Statistical Inference"
   ]
  },
  {
   "cell_type": "code",
   "execution_count": 3,
   "metadata": {},
   "outputs": [],
   "source": [
    "url = 'https://github.com/scunning1975/mixtape/raw/master/yule.dta'\n",
    "df = pd.read_stata(url)"
   ]
  },
  {
   "cell_type": "code",
   "execution_count": 4,
   "metadata": {},
   "outputs": [
    {
     "data": {
      "text/html": [
       "<div>\n",
       "<style scoped>\n",
       "    .dataframe tbody tr th:only-of-type {\n",
       "        vertical-align: middle;\n",
       "    }\n",
       "\n",
       "    .dataframe tbody tr th {\n",
       "        vertical-align: top;\n",
       "    }\n",
       "\n",
       "    .dataframe thead th {\n",
       "        text-align: right;\n",
       "    }\n",
       "</style>\n",
       "<table border=\"1\" class=\"dataframe\">\n",
       "  <thead>\n",
       "    <tr style=\"text-align: right;\">\n",
       "      <th></th>\n",
       "      <th>location</th>\n",
       "      <th>paup</th>\n",
       "      <th>outrelief</th>\n",
       "      <th>old</th>\n",
       "      <th>pop</th>\n",
       "    </tr>\n",
       "  </thead>\n",
       "  <tbody>\n",
       "    <tr>\n",
       "      <th>0</th>\n",
       "      <td>Kensington</td>\n",
       "      <td>27</td>\n",
       "      <td>5</td>\n",
       "      <td>104</td>\n",
       "      <td>136</td>\n",
       "    </tr>\n",
       "    <tr>\n",
       "      <th>1</th>\n",
       "      <td>Paddington</td>\n",
       "      <td>47</td>\n",
       "      <td>12</td>\n",
       "      <td>115</td>\n",
       "      <td>111</td>\n",
       "    </tr>\n",
       "    <tr>\n",
       "      <th>2</th>\n",
       "      <td>Fulham</td>\n",
       "      <td>31</td>\n",
       "      <td>21</td>\n",
       "      <td>85</td>\n",
       "      <td>174</td>\n",
       "    </tr>\n",
       "    <tr>\n",
       "      <th>3</th>\n",
       "      <td>Chelsea</td>\n",
       "      <td>64</td>\n",
       "      <td>21</td>\n",
       "      <td>81</td>\n",
       "      <td>124</td>\n",
       "    </tr>\n",
       "    <tr>\n",
       "      <th>4</th>\n",
       "      <td>St. George’s</td>\n",
       "      <td>46</td>\n",
       "      <td>18</td>\n",
       "      <td>113</td>\n",
       "      <td>96</td>\n",
       "    </tr>\n",
       "  </tbody>\n",
       "</table>\n",
       "</div>"
      ],
      "text/plain": [
       "        location  paup  outrelief  old  pop\n",
       "0    Kensington     27          5  104  136\n",
       "1    Paddington     47         12  115  111\n",
       "2        Fulham     31         21   85  174\n",
       "3       Chelsea     64         21   81  124\n",
       "4  St. George’s     46         18  113   96"
      ]
     },
     "execution_count": 4,
     "metadata": {},
     "output_type": "execute_result"
    }
   ],
   "source": [
    "df.head()"
   ]
  },
  {
   "cell_type": "code",
   "execution_count": 5,
   "metadata": {},
   "outputs": [],
   "source": [
    "# regression\n",
    "X = df[['outrelief', 'old', 'pop']]\n",
    "X = sm.add_constant(X)\n",
    "results = sm.OLS(df.paup, X).fit()"
   ]
  },
  {
   "cell_type": "code",
   "execution_count": 6,
   "metadata": {},
   "outputs": [
    {
     "name": "stdout",
     "output_type": "stream",
     "text": [
      "                            OLS Regression Results                            \n",
      "==============================================================================\n",
      "Dep. Variable:                   paup   R-squared:                       0.697\n",
      "Model:                            OLS   Adj. R-squared:                  0.665\n",
      "Method:                 Least Squares   F-statistic:                     21.49\n",
      "Date:                Sun, 14 Mar 2021   Prob (F-statistic):           2.00e-07\n",
      "Time:                        21:05:35   Log-Likelihood:                -115.47\n",
      "No. Observations:                  32   AIC:                             238.9\n",
      "Df Residuals:                      28   BIC:                             244.8\n",
      "Df Model:                           3                                         \n",
      "Covariance Type:            nonrobust                                         \n",
      "==============================================================================\n",
      "                 coef    std err          t      P>|t|      [0.025      0.975]\n",
      "------------------------------------------------------------------------------\n",
      "const         63.1877     27.144      2.328      0.027       7.586     118.789\n",
      "outrelief      0.7521      0.135      5.572      0.000       0.476       1.029\n",
      "old            0.0556      0.223      0.249      0.805      -0.402       0.513\n",
      "pop           -0.3107      0.067     -4.648      0.000      -0.448      -0.174\n",
      "==============================================================================\n",
      "Omnibus:                        7.594   Durbin-Watson:                   2.344\n",
      "Prob(Omnibus):                  0.022   Jarque-Bera (JB):                5.979\n",
      "Skew:                           0.961   Prob(JB):                       0.0503\n",
      "Kurtosis:                       3.888   Cond. No.                     2.56e+03\n",
      "==============================================================================\n",
      "\n",
      "Warnings:\n",
      "[1] Standard Errors assume that the covariance matrix of the errors is correctly specified.\n",
      "[2] The condition number is large, 2.56e+03. This might indicate that there are\n",
      "strong multicollinearity or other numerical problems.\n"
     ]
    }
   ],
   "source": [
    "print(results.summary())"
   ]
  },
  {
   "cell_type": "markdown",
   "metadata": {},
   "source": [
    "## 4.1.4 Independence Assumption"
   ]
  },
  {
   "cell_type": "code",
   "execution_count": 7,
   "metadata": {},
   "outputs": [],
   "source": [
    "# compare to independence\n",
    "sdo_list = list()\n",
    "\n",
    "for sim in range(10000):\n",
    "    y1 = 7, 5, 5, 7, 4, 10, 1, 5, 3, 9\n",
    "    y1 = np.array(y1)\n",
    "    y0 = 1, 6, 1, 8, 2, 1, 10, 6, 7, 8\n",
    "    y0 = np.array(y0)\n",
    "\n",
    "    d = np.concatenate([np.ones(5), np.zeros(5)])\n",
    "    random.shuffle(d)\n",
    "    y = d*y1 + (1-d)*y0\n",
    "\n",
    "    # means\n",
    "    sy1 = np.mean(y[d==1])\n",
    "    sy0 = np.mean(y[d==0])\n",
    "    sdo = sy1 - sy0\n",
    "    \n",
    "    sdo_list.append(sdo)\n",
    "    \n",
    "    "
   ]
  },
  {
   "cell_type": "code",
   "execution_count": 8,
   "metadata": {},
   "outputs": [
    {
     "name": "stdout",
     "output_type": "stream",
     "text": [
      "SDO 0.59042\n"
     ]
    }
   ],
   "source": [
    "print('SDO', np.mean(sdo_list))"
   ]
  },
  {
   "cell_type": "code",
   "execution_count": 9,
   "metadata": {},
   "outputs": [
    {
     "name": "stdout",
     "output_type": "stream",
     "text": [
      "ATE 0.6\n"
     ]
    }
   ],
   "source": [
    "ate = np.mean(y1 - y0)\n",
    "print('ATE', ate)"
   ]
  },
  {
   "cell_type": "markdown",
   "metadata": {},
   "source": [
    "## 4.2.1 Lady Tasting Tea"
   ]
  },
  {
   "cell_type": "code",
   "execution_count": 10,
   "metadata": {},
   "outputs": [],
   "source": [
    "from itertools import combinations"
   ]
  },
  {
   "cell_type": "code",
   "execution_count": 11,
   "metadata": {},
   "outputs": [],
   "source": [
    "# compare to tea\n",
    "\n",
    "# 8 cups of tea, assume she guesses the first four cups\n",
    "guess = (1,2,3,4)\n",
    "\n",
    "n_combos = 0\n",
    "correct = 0\n",
    "for truth in combinations(range(1,9), 4): # possible combos of cups with tea then milk \n",
    "    n_combos += 1 # add one to count of combinations\n",
    "    if truth == guess:\n",
    "        correct += 1"
   ]
  },
  {
   "cell_type": "code",
   "execution_count": 12,
   "metadata": {},
   "outputs": [
    {
     "name": "stdout",
     "output_type": "stream",
     "text": [
      "probability of guessing the truth 0.014285714285714285\n"
     ]
    }
   ],
   "source": [
    "print('probability of guessing the truth', correct/n_combos)"
   ]
  },
  {
   "cell_type": "markdown",
   "metadata": {},
   "source": [
    "## 4.2.4 Example"
   ]
  },
  {
   "cell_type": "code",
   "execution_count": 13,
   "metadata": {},
   "outputs": [],
   "source": [
    "# compare to ri\n",
    "\n",
    "url = 'https://github.com/scunning1975/mixtape/raw/master/ri.dta'\n",
    "df = pd.read_stata(url, index_col = 'name')"
   ]
  },
  {
   "cell_type": "code",
   "execution_count": 14,
   "metadata": {},
   "outputs": [
    {
     "name": "stdout",
     "output_type": "stream",
     "text": [
      "1.0\n"
     ]
    }
   ],
   "source": [
    "test_stat_helper = df.groupby('d').y.mean()\n",
    "observed_test_stat = test_stat_helper[1] - test_stat_helper[0]\n",
    "print(observed_test_stat)"
   ]
  },
  {
   "cell_type": "code",
   "execution_count": 15,
   "metadata": {},
   "outputs": [],
   "source": [
    "# sharp null\n",
    "#sharp_null = df.replace('.',np.nan) \n",
    "#sharp_null = sharp_null.bfill(axis = 1).ffill(axis = 1) # set y0 = y1 by filling nulls\n",
    "\n",
    "# randomly assign d = 1\n",
    "assignment_table = pd.DataFrame()\n",
    "for key, assignment in enumerate(combinations(df.index, 4)):\n",
    "    control = [x for x in df.index if x not in assignment] # those not in treatment group\n",
    "    mean_treated = df.loc[assignment,'y'].mean()\n",
    "    mean_u = df.loc[control, 'y'].mean()\n",
    "    \n",
    "    test_stat = mean_treated - mean_u\n",
    "    \n",
    "    # dicts\n",
    "    dict1 = dict(zip(assignment,np.ones(4)))\n",
    "    dict2 = dict(zip(control, np.zeros(4)))\n",
    "    dict3 = {'T': test_stat}\n",
    "    dict1.update(dict2)\n",
    "    dict1.update(dict3)\n",
    "    row = pd.DataFrame(data = dict1, index = [key])\n",
    "    \n",
    "    assignment_table = assignment_table.append(row)"
   ]
  },
  {
   "cell_type": "code",
   "execution_count": 16,
   "metadata": {},
   "outputs": [],
   "source": [
    "# do it again with permutations instead of combinations\n",
    "\n",
    "from itertools import permutations\n",
    "\n",
    "y_vec = df.y.values \n",
    "\n",
    "d = np.concatenate( [np.ones(4), (-1)*np.ones(4)] )\n",
    "t_stats = list()\n",
    "for d_vec in permutations(d):    \n",
    "    \n",
    "    t = np.dot(y_vec, d_vec) / 4 # signed value\n",
    "    t_stats.append(t)"
   ]
  }
 ],
 "metadata": {
  "kernelspec": {
   "display_name": "Python 3",
   "language": "python",
   "name": "python3"
  },
  "language_info": {
   "codemirror_mode": {
    "name": "ipython",
    "version": 3
   },
   "file_extension": ".py",
   "mimetype": "text/x-python",
   "name": "python",
   "nbconvert_exporter": "python",
   "pygments_lexer": "ipython3",
   "version": "3.7.6"
  }
 },
 "nbformat": 4,
 "nbformat_minor": 4
}
