{
 "cells": [
  {
   "cell_type": "markdown",
   "metadata": {},
   "source": [
    "## Welcome\n",
    "\n",
    "This is material for the **Potential Outcomes** chapter in Scott Cunningham's book, [Causal Inference: The Mixtape.](https://mixtape.scunning.com/)"
   ]
  },
  {
   "cell_type": "code",
   "execution_count": 1,
   "metadata": {},
   "outputs": [],
   "source": [
    "import numpy as np\n",
    "import pandas as pd\n",
    "import statsmodels.api as sm\n",
    "import matplotlib.pyplot as plt\n",
    "import math\n",
    "import random"
   ]
  },
  {
   "cell_type": "code",
   "execution_count": 2,
   "metadata": {},
   "outputs": [],
   "source": [
    "np.random.seed(91)\n",
    "random.seed(91)"
   ]
  },
  {
   "cell_type": "markdown",
   "metadata": {},
   "source": [
    "### Statistical Inference"
   ]
  },
  {
   "cell_type": "code",
   "execution_count": 3,
   "metadata": {},
   "outputs": [],
   "source": [
    "url = 'https://github.com/scunning1975/mixtape/raw/master/yule.dta'\n",
    "yule = pd.read_stata(url)"
   ]
  },
  {
   "cell_type": "code",
   "execution_count": 4,
   "metadata": {},
   "outputs": [
    {
     "name": "stdout",
     "output_type": "stream",
     "text": [
      "                            OLS Regression Results                            \n",
      "==============================================================================\n",
      "Dep. Variable:                   paup   R-squared:                       0.697\n",
      "Model:                            OLS   Adj. R-squared:                  0.665\n",
      "Method:                 Least Squares   F-statistic:                     21.49\n",
      "Date:                Sat, 25 Dec 2021   Prob (F-statistic):           2.00e-07\n",
      "Time:                        21:57:56   Log-Likelihood:                -115.47\n",
      "No. Observations:                  32   AIC:                             238.9\n",
      "Df Residuals:                      28   BIC:                             244.8\n",
      "Df Model:                           3                                         \n",
      "Covariance Type:            nonrobust                                         \n",
      "==============================================================================\n",
      "                 coef    std err          t      P>|t|      [0.025      0.975]\n",
      "------------------------------------------------------------------------------\n",
      "Intercept     63.1877     27.144      2.328      0.027       7.586     118.789\n",
      "outrelief      0.7521      0.135      5.572      0.000       0.476       1.029\n",
      "old            0.0556      0.223      0.249      0.805      -0.402       0.513\n",
      "pop           -0.3107      0.067     -4.648      0.000      -0.448      -0.174\n",
      "==============================================================================\n",
      "Omnibus:                        7.594   Durbin-Watson:                   2.344\n",
      "Prob(Omnibus):                  0.022   Jarque-Bera (JB):                5.979\n",
      "Skew:                           0.961   Prob(JB):                       0.0503\n",
      "Kurtosis:                       3.888   Cond. No.                     2.56e+03\n",
      "==============================================================================\n",
      "\n",
      "Notes:\n",
      "[1] Standard Errors assume that the covariance matrix of the errors is correctly specified.\n",
      "[2] The condition number is large, 2.56e+03. This might indicate that there are\n",
      "strong multicollinearity or other numerical problems.\n"
     ]
    }
   ],
   "source": [
    "res = sm.OLS.from_formula('paup ~ outrelief + old + pop', data = yule).fit()\n",
    "print(res.summary())"
   ]
  },
  {
   "cell_type": "markdown",
   "metadata": {},
   "source": [
    "#### Questions\n",
    "\n",
    "- How do you interpret the coefficient on `outrelief` given it's a percentage change regressed onto a percentage?\n",
    "- Draw a DAG representing what must be true in order for Yule's estimate of `outrelief` on pauper growth rates to be causal?  \n",
    "- Yule concluded that public assistance (`outrelief`) increased pauper growth rates. How convinced are you that all backdoor paths between pauperism and out-relief are blocked once you control for two covariates in a cross-sectional database for all of England? Could there be unobserved determinants of both poverty and public assistance?\n",
    "- If public assistance causes pauper growth rates, but pauper growth rates also causes public assistance, then why won't Yule's regression capture a causal effect of `outrelief` on pauper growth rates?  Explain the concept of reverse causality with Yule's data."
   ]
  },
  {
   "cell_type": "markdown",
   "metadata": {},
   "source": [
    "### Independence Assumption"
   ]
  },
  {
   "cell_type": "code",
   "execution_count": 5,
   "metadata": {},
   "outputs": [],
   "source": [
    "y1 = 7, 5, 5, 7, 4, 10, 1, 5, 3, 9\n",
    "y1 = np.array(y1)\n",
    "y0 = 1, 6, 1, 8, 2, 1, 10, 6, 7, 8\n",
    "y0 = np.array(y0)\n",
    "\n",
    "sdo_list = list()\n",
    "for sim in range(10000):\n",
    "\n",
    "    # Initialize treatment 1111100000\n",
    "    d = np.concatenate([np.ones(5), np.zeros(5)])\n",
    "    # Shuffle treatment randomly\n",
    "    random.shuffle(d)\n",
    "    # Pull y1 or y0 depending on treatment\n",
    "    y = d*y1 + (1-d)*y0\n",
    "\n",
    "    # means\n",
    "    sy1 = np.mean(y[d==1]) # index y where d = 1\n",
    "    sy0 = np.mean(y[d==0]) # index y where d = 0\n",
    "    sdo = sy1 - sy0\n",
    "    \n",
    "    sdo_list.append(sdo)"
   ]
  },
  {
   "cell_type": "code",
   "execution_count": 6,
   "metadata": {},
   "outputs": [
    {
     "name": "stdout",
     "output_type": "stream",
     "text": [
      "SDO 0.59042\n"
     ]
    }
   ],
   "source": [
    "print('SDO', np.mean(sdo_list))"
   ]
  },
  {
   "cell_type": "code",
   "execution_count": 7,
   "metadata": {},
   "outputs": [
    {
     "name": "stdout",
     "output_type": "stream",
     "text": [
      "ATE 0.6\n"
     ]
    }
   ],
   "source": [
    "ate = np.mean(y1 - y0)\n",
    "print('ATE', ate)"
   ]
  },
  {
   "cell_type": "markdown",
   "metadata": {},
   "source": [
    "#### Questions\n",
    "- The requirement that treatment be independent of potential outcomes states that a choice made by a person must be independent of what they expect to gain or lose from the choice.  Give an example where this is likely true?  What does independence imply about human decision-making?\n",
    "- All of the behavioral sciences, including economics, suggest that independence is unlikely to hold outside of an experiment. What is so special about an experiment where independence will hold?  What is so special about behavior outside an experiment where it is unlikely to hold?\n",
    "- What implication does the decision rule of utility maximization from economics have for our ability to appeal to treatment being distributed independent of potential outcomes?\n",
    "\n",
    "\n",
    "\n",
    "\n",
    "\n",
    "## Fisher Randomization"
   ]
  },
  {
   "cell_type": "code",
   "execution_count": 8,
   "metadata": {},
   "outputs": [],
   "source": [
    "from itertools import combinations"
   ]
  },
  {
   "cell_type": "code",
   "execution_count": 9,
   "metadata": {},
   "outputs": [],
   "source": [
    "# 8 cups of tea, assume she guesses the first four cups\n",
    "guess = (1,2,3,4)\n",
    "\n",
    "n_combos = 0\n",
    "correct = 0\n",
    "for truth in combinations(range(1,9), 4): # possible placement of the four cups\n",
    "    n_combos += 1 # add one to count of combinations\n",
    "    if truth == guess:\n",
    "        correct += 1"
   ]
  },
  {
   "cell_type": "code",
   "execution_count": 10,
   "metadata": {},
   "outputs": [
    {
     "name": "stdout",
     "output_type": "stream",
     "text": [
      "probability of guessing the truth 0.014285714285714285\n"
     ]
    }
   ],
   "source": [
    "print('probability of guessing the truth', correct/n_combos)"
   ]
  },
  {
   "cell_type": "markdown",
   "metadata": {},
   "source": [
    "#### Questions\n",
    "\n",
    "- Using the above simulation, what is the probability that Dr. Bristol selected the correct four cups completely by chance?\n",
    "\n",
    "## Randomization Inference\n",
    "\n",
    "### Fisher Sharp Null"
   ]
  },
  {
   "cell_type": "code",
   "execution_count": 11,
   "metadata": {},
   "outputs": [],
   "source": [
    "url = 'https://github.com/scunning1975/mixtape/raw/master/ri.dta'\n",
    "ri = pd.read_stata(url, index_col = 'name')"
   ]
  },
  {
   "cell_type": "code",
   "execution_count": 14,
   "metadata": {},
   "outputs": [
    {
     "name": "stdout",
     "output_type": "stream",
     "text": [
      "1.0\n"
     ]
    }
   ],
   "source": [
    "test_stat_helper = ri.groupby('d').y.mean()\n",
    "observed_test_stat = test_stat_helper[1] - test_stat_helper[0]\n",
    "print(observed_test_stat)"
   ]
  },
  {
   "cell_type": "code",
   "execution_count": 15,
   "metadata": {},
   "outputs": [],
   "source": [
    "# sharp null\n",
    "\n",
    "# randomly assign d = 1\n",
    "assignment_table = pd.DataFrame()\n",
    "for key, assignment in enumerate(combinations(ri.index, 4)):\n",
    "    control = [x for x in ri.index if x not in assignment] # those not in treatment group\n",
    "    mean_treated = ri.loc[list(assignment),'y'].mean()\n",
    "    mean_u = ri.loc[control, 'y'].mean()\n",
    "    \n",
    "    test_stat = np.abs(mean_treated - mean_u)\n",
    "    \n",
    "    # dicts\n",
    "    dict1 = dict(zip(assignment,np.ones(4)))\n",
    "    dict2 = dict(zip(control, np.zeros(4)))\n",
    "    dict3 = {'t_stat': test_stat}\n",
    "    dict1.update(dict2)\n",
    "    dict1.update(dict3)\n",
    "    row = pd.DataFrame(data = dict1, index = [key])\n",
    "    \n",
    "    assignment_table = assignment_table.append(row)"
   ]
  },
  {
   "cell_type": "code",
   "execution_count": 16,
   "metadata": {},
   "outputs": [
    {
     "name": "stdout",
     "output_type": "stream",
     "text": [
      "0.8571428571428571\n"
     ]
    }
   ],
   "source": [
    "p_value = (assignment_table.t_stat >= observed_test_stat).mean()\n",
    "print(p_value) # two-sided p-value"
   ]
  },
  {
   "cell_type": "code",
   "execution_count": null,
   "metadata": {},
   "outputs": [],
   "source": []
  },
  {
   "cell_type": "code",
   "execution_count": 17,
   "metadata": {},
   "outputs": [],
   "source": [
    "# do it again with permutations instead of combinations\n",
    "from itertools import permutations\n",
    "\n",
    "y_vec = ri.y.values \n",
    "d = np.concatenate( [np.ones(4), (-1)*np.ones(4)] )\n",
    "t_stats = list()\n",
    "for d_vec in permutations(d):    \n",
    "    t = np.abs( np.dot(y_vec, d_vec) / 4 )\n",
    "    t_stats.append(t)"
   ]
  },
  {
   "cell_type": "code",
   "execution_count": 18,
   "metadata": {},
   "outputs": [],
   "source": [
    "p_value = (t_stats >= observed_test_stat).mean()\n"
   ]
  },
  {
   "cell_type": "code",
   "execution_count": 19,
   "metadata": {},
   "outputs": [
    {
     "data": {
      "text/plain": [
       "0.8571428571428571"
      ]
     },
     "execution_count": 19,
     "metadata": {},
     "output_type": "execute_result"
    }
   ],
   "source": [
    "p_value"
   ]
  },
  {
   "cell_type": "markdown",
   "metadata": {},
   "source": [
    "#### Questions\n",
    "\n",
    "- Can we reject the null in the placebo distribution?\n",
    "\n",
    "\n",
    "\n",
    "### KS Test\n"
   ]
  },
  {
   "cell_type": "code",
   "execution_count": 20,
   "metadata": {},
   "outputs": [],
   "source": [
    "tb = pd.DataFrame({\n",
    "    'd' : np.concatenate((np.repeat(0, 20), np.repeat(1, 20))),\n",
    "    'y' : (\n",
    "        0.22, -0.87, -2.39, -1.79, 0.37, -1.54,\n",
    "        1.28, -0.31, -0.74, 1.72,\n",
    "        0.38, -0.17, -0.62, -1.10, 0.30,\n",
    "        0.15, 2.30, 0.19, -0.50, -0.9,\n",
    "        -5.13, -2.19, 2.43, -3.83, 0.5,\n",
    "        -3.25, 4.32, 1.63, 5.18, -0.43,\n",
    "        7.11, 4.87, -3.10, -5.81, 3.76,\n",
    "        6.31, 2.58, 0.07, 5.76, 3.50\n",
    "    )})"
   ]
  },
  {
   "cell_type": "code",
   "execution_count": 21,
   "metadata": {},
   "outputs": [
    {
     "data": {
      "text/plain": [
       "Text(0.5, 0, 'y')"
      ]
     },
     "execution_count": 21,
     "metadata": {},
     "output_type": "execute_result"
    },
    {
     "data": {
      "image/png": "[encoded data removed]",
      "text/plain": [
       "<Figure size 432x288 with 1 Axes>"
      ]
     },
     "metadata": {
      "needs_background": "light"
     },
     "output_type": "display_data"
    }
   ],
   "source": [
    "fig, ax = plt.subplots()\n",
    "\n",
    "tb[tb.d == 1].y.plot(kind = 'density', ax = ax, label = 'Treatment', color = 'black')\n",
    "tb[tb.d == 0].y.plot(kind = 'density', ax = ax, label = 'Control', linestyle = 'dashed')\n",
    "ax.legend(loc = 'lower center', bbox_to_anchor = (0.5, -.29), ncol = 2)\n",
    "\n",
    "ax.set_title(\"Kolmogorov-Smirnov Test\")\n",
    "ax.set_xlabel(\"y\")"
   ]
  },
  {
   "cell_type": "markdown",
   "metadata": {},
   "source": [
    "## Approximate $p$-values"
   ]
  },
  {
   "cell_type": "code",
   "execution_count": 22,
   "metadata": {},
   "outputs": [],
   "source": [
    "url = \"https://github.com/scunning1975/mixtape/raw/master/thornton_hiv.dta\"\n",
    "\n",
    "hiv = pd.read_stata(url)"
   ]
  },
  {
   "cell_type": "code",
   "execution_count": 23,
   "metadata": {},
   "outputs": [
    {
     "data": {
      "text/plain": [
       "1.0    2222\n",
       "0.0     679\n",
       "Name: any, dtype: int64"
      ]
     },
     "execution_count": 23,
     "metadata": {},
     "output_type": "execute_result"
    }
   ],
   "source": [
    "hiv['any'].value_counts()"
   ]
  },
  {
   "cell_type": "code",
   "execution_count": 26,
   "metadata": {},
   "outputs": [],
   "source": [
    "grouped_means = hiv.groupby(\"any\").got.mean()\n",
    "\n",
    "# ATE in the data\n",
    "ate = grouped_means.loc[1] - grouped_means.loc[0]"
   ]
  },
  {
   "cell_type": "code",
   "execution_count": 27,
   "metadata": {},
   "outputs": [
    {
     "name": "stdout",
     "output_type": "stream",
     "text": [
      "0.45055187\n"
     ]
    }
   ],
   "source": [
    "print(ate)"
   ]
  },
  {
   "cell_type": "code",
   "execution_count": 28,
   "metadata": {},
   "outputs": [],
   "source": [
    "hiv_in_sample = hiv[hiv['any'].isin([0,1])]\n",
    "ate_list = [ate]\n",
    "\n",
    "for simulation in range(999):\n",
    "    \n",
    "    # randomize and take first 2222 rows in alternate treatment\n",
    "    shuffled = hiv_in_sample.sample(frac = 1)\n",
    "    shuffled['alt_any'] = np.concatenate([np.ones(2222),np.zeros(2901-2222)])\n",
    "    \n",
    "    grouped_means = shuffled.groupby('alt_any').got.mean()\n",
    "    ate_alt = grouped_means.loc[1] - grouped_means.loc[0]\n",
    "    ate_list.append(ate_alt)"
   ]
  },
  {
   "cell_type": "code",
   "execution_count": 29,
   "metadata": {},
   "outputs": [],
   "source": [
    "rank = len([x for x in ate_list if x >= ate])\n",
    "p_value = rank / len(ate_list)"
   ]
  },
  {
   "cell_type": "code",
   "execution_count": 30,
   "metadata": {},
   "outputs": [
    {
     "name": "stdout",
     "output_type": "stream",
     "text": [
      "1 0.001\n"
     ]
    }
   ],
   "source": [
    "print(rank, p_value)"
   ]
  },
  {
   "cell_type": "markdown",
   "metadata": {},
   "source": [
    "#### Questions \n",
    "\n",
    "- How does the randomization inference test of no treatment effect differ from a null of no average treatment effect?\n",
    "- How likely is it that Thornton's results were a result of random chance? "
   ]
  }
 ],
 "metadata": {
  "kernelspec": {
   "display_name": "Python 3 (ipykernel)",
   "language": "python",
   "name": "python3"
  },
  "language_info": {
   "codemirror_mode": {
    "name": "ipython",
    "version": 3
   },
   "file_extension": ".py",
   "mimetype": "text/x-python",
   "name": "python",
   "nbconvert_exporter": "python",
   "pygments_lexer": "ipython3",
   "version": "3.8.5"
  }
 },
 "nbformat": 4,
 "nbformat_minor": 4
}
