{
 "cells": [
  {
   "cell_type": "markdown",
   "metadata": {},
   "source": [
    "# 3 Directed Acyclic Graphs"
   ]
  },
  {
   "cell_type": "code",
   "execution_count": 22,
   "metadata": {},
   "outputs": [],
   "source": [
    "import numpy as np\n",
    "import pandas as pd\n",
    "import statsmodels.api as sm\n",
    "import matplotlib.pyplot as plt"
   ]
  },
  {
   "cell_type": "markdown",
   "metadata": {},
   "source": [
    "## 3.1.5 Discrimination and collider bias"
   ]
  },
  {
   "cell_type": "code",
   "execution_count": 10,
   "metadata": {},
   "outputs": [],
   "source": [
    "# compare to collider_discrimination\n",
    "\n",
    "population_size = 10000\n",
    "\n",
    "# create a dataframe for the observations\n",
    "df = pd.DataFrame(index = range(population_size))\n",
    "\n",
    "# Indicator variable for female\n",
    "df['female'] = np.random.binomial(1, .5, population_size)\n",
    "\n",
    "# Innate ability is independent of gender\n",
    "df['ability'] = np.random.normal(size = population_size)\n",
    "\n",
    "# All women experience discrimination \n",
    "df['discrimination'] = df['female']\n",
    "\n",
    "# Data generating process\n",
    "df['occupation'] = 1 + 2*df.ability + 0*df.female - 2*df.discrimination + np.random.normal(size = population_size)\n",
    "df['wage'] = 1 - 1*df.discrimination + df.occupation + 2*df.ability + np.random.normal(size = population_size)"
   ]
  },
  {
   "cell_type": "markdown",
   "metadata": {},
   "source": [
    "###### Biased Unconditional"
   ]
  },
  {
   "cell_type": "code",
   "execution_count": 16,
   "metadata": {},
   "outputs": [
    {
     "name": "stdout",
     "output_type": "stream",
     "text": [
      "                            OLS Regression Results                            \n",
      "==============================================================================\n",
      "Dep. Variable:                   wage   R-squared:                       0.116\n",
      "Model:                            OLS   Adj. R-squared:                  0.116\n",
      "Method:                 Least Squares   F-statistic:                     1313.\n",
      "Date:                Sat, 13 Mar 2021   Prob (F-statistic):          2.84e-270\n",
      "Time:                        10:54:37   Log-Likelihood:                -28594.\n",
      "No. Observations:               10000   AIC:                         5.719e+04\n",
      "Df Residuals:                    9998   BIC:                         5.721e+04\n",
      "Df Model:                           1                                         \n",
      "Covariance Type:            nonrobust                                         \n",
      "==============================================================================\n",
      "                 coef    std err          t      P>|t|      [0.025      0.975]\n",
      "------------------------------------------------------------------------------\n",
      "const          2.0447      0.060     34.002      0.000       1.927       2.163\n",
      "female        -3.0611      0.084    -36.237      0.000      -3.227      -2.895\n",
      "==============================================================================\n",
      "Omnibus:                        3.403   Durbin-Watson:                   1.975\n",
      "Prob(Omnibus):                  0.182   Jarque-Bera (JB):                3.396\n",
      "Skew:                           0.034   Prob(JB):                        0.183\n",
      "Kurtosis:                       2.940   Cond. No.                         2.63\n",
      "==============================================================================\n",
      "\n",
      "Warnings:\n",
      "[1] Standard Errors assume that the covariance matrix of the errors is correctly specified.\n"
     ]
    }
   ],
   "source": [
    "X = df[['female']]\n",
    "y = df.wage\n",
    "\n",
    "X = sm.add_constant(X) # adding a constant\n",
    "\n",
    "model = sm.OLS(y, X).fit()\n",
    "\n",
    "print_model = model.summary()\n",
    "print(print_model)"
   ]
  },
  {
   "cell_type": "markdown",
   "metadata": {},
   "source": [
    "###### Biased Conditional\n"
   ]
  },
  {
   "cell_type": "code",
   "execution_count": 14,
   "metadata": {},
   "outputs": [
    {
     "name": "stdout",
     "output_type": "stream",
     "text": [
      "                            OLS Regression Results                            \n",
      "==============================================================================\n",
      "Dep. Variable:                   wage   R-squared:                       0.909\n",
      "Model:                            OLS   Adj. R-squared:                  0.909\n",
      "Method:                 Least Squares   F-statistic:                 4.983e+04\n",
      "Date:                Sat, 13 Mar 2021   Prob (F-statistic):               0.00\n",
      "Time:                        10:51:19   Log-Likelihood:                -17236.\n",
      "No. Observations:               10000   AIC:                         3.448e+04\n",
      "Df Residuals:                    9997   BIC:                         3.450e+04\n",
      "Df Model:                           2                                         \n",
      "Covariance Type:            nonrobust                                         \n",
      "==============================================================================\n",
      "                 coef    std err          t      P>|t|      [0.025      0.975]\n",
      "------------------------------------------------------------------------------\n",
      "const          0.2157      0.020     10.633      0.000       0.176       0.255\n",
      "female         0.5666      0.030     19.021      0.000       0.508       0.625\n",
      "occupation     1.7929      0.006    294.840      0.000       1.781       1.805\n",
      "==============================================================================\n",
      "Omnibus:                        1.451   Durbin-Watson:                   1.977\n",
      "Prob(Omnibus):                  0.484   Jarque-Bera (JB):                1.450\n",
      "Skew:                           0.005   Prob(JB):                        0.484\n",
      "Kurtosis:                       2.942   Cond. No.                         6.19\n",
      "==============================================================================\n",
      "\n",
      "Warnings:\n",
      "[1] Standard Errors assume that the covariance matrix of the errors is correctly specified.\n"
     ]
    }
   ],
   "source": [
    "X = df[['female', 'occupation']]\n",
    "y = df.wage\n",
    "\n",
    "X = sm.add_constant(X) # adding a constant\n",
    "\n",
    "model = sm.OLS(y, X).fit()\n",
    "\n",
    "print_model = model.summary()\n",
    "print(print_model)"
   ]
  },
  {
   "cell_type": "markdown",
   "metadata": {},
   "source": [
    "###### Unbiased Conditional"
   ]
  },
  {
   "cell_type": "code",
   "execution_count": 15,
   "metadata": {},
   "outputs": [
    {
     "name": "stdout",
     "output_type": "stream",
     "text": [
      "                            OLS Regression Results                            \n",
      "==============================================================================\n",
      "Dep. Variable:                   wage   R-squared:                       0.950\n",
      "Model:                            OLS   Adj. R-squared:                  0.950\n",
      "Method:                 Least Squares   F-statistic:                 6.283e+04\n",
      "Date:                Sat, 13 Mar 2021   Prob (F-statistic):               0.00\n",
      "Time:                        10:51:47   Log-Likelihood:                -14269.\n",
      "No. Observations:               10000   AIC:                         2.855e+04\n",
      "Df Residuals:                    9996   BIC:                         2.857e+04\n",
      "Df Model:                           3                                         \n",
      "Covariance Type:            nonrobust                                         \n",
      "==============================================================================\n",
      "                 coef    std err          t      P>|t|      [0.025      0.975]\n",
      "------------------------------------------------------------------------------\n",
      "const          1.0118      0.017     57.875      0.000       0.977       1.046\n",
      "female        -1.0118      0.028    -35.819      0.000      -1.067      -0.956\n",
      "occupation     1.0011      0.010    101.203      0.000       0.982       1.020\n",
      "ability        1.9951      0.022     89.989      0.000       1.952       2.039\n",
      "==============================================================================\n",
      "Omnibus:                        2.421   Durbin-Watson:                   1.982\n",
      "Prob(Omnibus):                  0.298   Jarque-Bera (JB):                2.451\n",
      "Skew:                          -0.034   Prob(JB):                        0.294\n",
      "Kurtosis:                       2.963   Cond. No.                         9.40\n",
      "==============================================================================\n",
      "\n",
      "Warnings:\n",
      "[1] Standard Errors assume that the covariance matrix of the errors is correctly specified.\n"
     ]
    }
   ],
   "source": [
    "X = df[['female', 'occupation', 'ability']]\n",
    "y = df.wage\n",
    "\n",
    "X = sm.add_constant(X) # adding a constant\n",
    "\n",
    "model = sm.OLS(y, X).fit()\n",
    "\n",
    "print_model = model.summary()\n",
    "print(print_model)"
   ]
  },
  {
   "cell_type": "markdown",
   "metadata": {},
   "source": [
    "## 3.1.6 Sample selection and collider bias"
   ]
  },
  {
   "cell_type": "code",
   "execution_count": 27,
   "metadata": {},
   "outputs": [],
   "source": [
    "# compare to moviestar\n",
    "\n",
    "obs = 2500\n",
    "df = pd.DataFrame(index = range(obs))\n",
    "\n",
    "df['beauty'] = np.random.normal(size = obs)\n",
    "df['talent'] = np.random.normal(size = obs)\n",
    "\n",
    "# create the collider variable\n",
    "df['score'] = df.beauty + df.talent\n",
    "df['star'] = df.score >= df.score.quantile(.85)"
   ]
  },
  {
   "cell_type": "code",
   "execution_count": 51,
   "metadata": {},
   "outputs": [
    {
     "data": {
      "image/png": "[encoded data removed]",
      "text/plain": [
       "<Figure size 432x288 with 3 Axes>"
      ]
     },
     "metadata": {
      "needs_background": "light"
     },
     "output_type": "display_data"
    }
   ],
   "source": [
    "# Make scatter plots\n",
    "\n",
    "stars = df[df.star == True]\n",
    "nonstars = df[df.star == False]\n",
    "\n",
    "fig = plt.figure()\n",
    "\n",
    "# Non-stars\n",
    "ax1 = fig.add_subplot(2,2,1)\n",
    "ax1.scatter(nonstars.talent, nonstars.beauty, s = 2)\n",
    "ax1.set_title(\"Non-stars\")\n",
    "\n",
    "# Stars\n",
    "ax2 = fig.add_subplot(2,2,2)\n",
    "ax2.scatter(stars.talent, stars.beauty, s = 2)\n",
    "ax2.set_title('Stars')\n",
    "\n",
    "ax3 = fig.add_subplot(2,2,3)\n",
    "ax3.scatter(df.talent, df.beauty, s = 2)\n",
    "ax3.set_title(\"All actors\")\n",
    "\n",
    "# Set axes limits\n",
    "for ax_ in ax0, ax1, ax2:\n",
    "    ax_.set_xlim([-4,4])\n",
    "    ax_.set_ylim([-4,4])\n",
    "\n",
    "# Label axes for entire grid\n",
    "fig.text(0.5, -.01, 'Talent', ha='center', va='center')\n",
    "fig.text(-0.01, 0.51, 'Beauty', ha='center', va='center', rotation='vertical')\n",
    "    \n",
    "    \n",
    "fig.tight_layout()"
   ]
  },
  {
   "cell_type": "code",
   "execution_count": null,
   "metadata": {},
   "outputs": [],
   "source": []
  }
 ],
 "metadata": {
  "kernelspec": {
   "display_name": "Python 3",
   "language": "python",
   "name": "python3"
  },
  "language_info": {
   "codemirror_mode": {
    "name": "ipython",
    "version": 3
   },
   "file_extension": ".py",
   "mimetype": "text/x-python",
   "name": "python",
   "nbconvert_exporter": "python",
   "pygments_lexer": "ipython3",
   "version": "3.7.6"
  }
 },
 "nbformat": 4,
 "nbformat_minor": 4
}
